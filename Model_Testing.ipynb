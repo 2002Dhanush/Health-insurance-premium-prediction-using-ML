{
 "cells": [
  {
   "cell_type": "code",
   "execution_count": 4,
   "id": "e6a25272",
   "metadata": {},
   "outputs": [],
   "source": [
    "import joblib\n",
    "import random\n",
    "import csv\n",
    "import numpy as np\n",
    "import warnings\n",
    "warnings.filterwarnings('ignore')"
   ]
  },
  {
   "cell_type": "code",
   "execution_count": null,
   "id": "fff4fc1a",
   "metadata": {},
   "outputs": [],
   "source": []
  },
  {
   "cell_type": "code",
   "execution_count": 9,
   "id": "29ed13e2",
   "metadata": {},
   "outputs": [
    {
     "name": "stdout",
     "output_type": "stream",
     "text": [
      "['age', 'sex', 'bmi', 'children', 'smoker', 'region', 'charges']\n",
      "['34', 'female', '19', '3', 'no', 'northeast', '6753.038']\n"
     ]
    }
   ],
   "source": [
    "with open('Data/insurance.csv') as csvfile:\n",
    "    readCSV = list(csv.reader(csvfile, delimiter=','))\n",
    "    random_row = readCSV[random.randint(1,1000)]\n",
    "#with csv.reader() we can access csv files with index\n",
    "print(readCSV[0])\n",
    "print(random_row)\n",
    "expec=random_row[-1]\n",
    "random_row[4]=1 if random_row[4]=='yes' else 0\n",
    "c = np.array([random_row[i] for i in [0,2,4,3]]).astype('float32').reshape(1,-1)\n",
    "\n"
   ]
  },
  {
   "cell_type": "code",
   "execution_count": 10,
   "id": "3f10f11a",
   "metadata": {
    "scrolled": true
   },
   "outputs": [
    {
     "name": "stdout",
     "output_type": "stream",
     "text": [
      "[[34. 19.  0.  3.]]\n",
      "Predicted o/p [6538.62003992]\n",
      "Expected o/p 6753.038\n"
     ]
    }
   ],
   "source": [
    "model=joblib.load('Models/final_model.pkl')\n",
    "print(c)\n",
    "print('Predicted o/p',model.predict(c))\n",
    "print('Expected o/p',expec)"
   ]
  },
  {
   "cell_type": "code",
   "execution_count": null,
   "id": "9c57594c",
   "metadata": {},
   "outputs": [],
   "source": []
  }
 ],
 "metadata": {
  "kernelspec": {
   "display_name": "Python 3 (ipykernel)",
   "language": "python",
   "name": "python3"
  },
  "language_info": {
   "codemirror_mode": {
    "name": "ipython",
    "version": 3
   },
   "file_extension": ".py",
   "mimetype": "text/x-python",
   "name": "python",
   "nbconvert_exporter": "python",
   "pygments_lexer": "ipython3",
   "version": "3.11.5"
  }
 },
 "nbformat": 4,
 "nbformat_minor": 5
}
